{
 "cells": [
  {
   "cell_type": "markdown",
   "id": "9a42515b-2508-4664-8876-90f5742a7888",
   "metadata": {},
   "source": [
    "# Eat Safe, Love"
   ]
  },
  {
   "cell_type": "markdown",
   "id": "846f2a71-e60e-4e68-96e8-cb10bbd522ee",
   "metadata": {},
   "source": [
    "## Part 1: Database and Jupyter Notebook Set Up"
   ]
  },
  {
   "cell_type": "markdown",
   "id": "de207298-2de6-4c93-83d4-87d8be28f371",
   "metadata": {},
   "source": [
    "Import the data provided in the `establishments.json` file from your Terminal. Name the database `uk_food` and the collection `establishments`.\n",
    "\n",
    "Within this markdown cell, copy the line of text you used to import the data from your Terminal. This way, future analysts will be able to repeat your process.\n",
    "\n",
    "e.g.: Import the dataset with `YOUR IMPORT TEXT HERE`"
   ]
  },
  {
   "cell_type": "code",
   "execution_count": 1,
   "id": "18a8842d-4e9a-4e2c-ab51-8848c3e767fb",
   "metadata": {},
   "outputs": [],
   "source": [
    "# Import dependencies\n",
    "from pymongo import MongoClient\n",
    "from pprint import pprint\n",
    "import json"
   ]
  },
  {
   "cell_type": "code",
   "execution_count": 2,
   "id": "c23b1d89-202c-4f7f-9927-3044eb212b96",
   "metadata": {},
   "outputs": [],
   "source": [
    "# Create an instance of MongoClient\n",
    "mongo = MongoClient(port=27017)"
   ]
  },
  {
   "cell_type": "code",
   "execution_count": 3,
   "id": "b25070c8-6461-4809-b9f7-81077150fb4c",
   "metadata": {},
   "outputs": [],
   "source": [
    "# Assign the uk_food database to a variable name (creating it if it doesn't exist)\n",
    "db = mongo['uk_food']\n",
    "\n",
    "# Assign the artifacts collection to a variable (creating it if it doesn't exist)\n",
    "establishments_collection = db.establishments"
   ]
  },
  {
   "cell_type": "code",
   "execution_count": 4,
   "id": "4b1fb832-135f-4005-874d-27bd4244ec8d",
   "metadata": {},
   "outputs": [
    {
     "name": "stdout",
     "output_type": "stream",
     "text": [
      "{'FHRSID': 254719, 'ChangesByServerID': 0, 'LocalAuthorityBusinessID': 'PI/000069980', 'BusinessName': 'Refreshment Kiosk', 'BusinessType': 'Restaurant/Cafe/Canteen', 'BusinessTypeID': 1, 'AddressLine1': 'The Bay', 'AddressLine2': 'St Margarets Bay', 'AddressLine3': 'Kent', 'AddressLine4': '', 'PostCode': 'CT15 6DY', 'Phone': '', 'RatingValue': '5', 'RatingKey': 'fhrs_5_en-gb', 'RatingDate': '2022-03-24T00:00:00', 'LocalAuthorityCode': '182', 'LocalAuthorityName': 'Dover', 'LocalAuthorityWebSite': 'http://www.dover.gov.uk/', 'LocalAuthorityEmailAddress': 'publicprotection@dover.gov.uk', 'scores': {'Hygiene': 0, 'Structural': 5, 'ConfidenceInManagement': 5}, 'SchemeType': 'FHRS', 'geocode': {'longitude': '1.387974', 'latitude': '51.152225'}, 'RightToReply': '', 'Distance': 4587.347174863443, 'NewRatingPending': False, 'meta': {'dataSource': None, 'extractDate': '0001-01-01T00:00:00', 'itemCount': 0, 'returncode': None, 'totalCount': 0, 'totalPages': 0, 'pageSize': 0, 'pageNumber': 0}, 'links': [{'rel': 'self', 'href': 'https://api.ratings.food.gov.uk/establishments/254719'}]}\n"
     ]
    }
   ],
   "source": [
    "# Load the data from the JSON file with UTF-8 encoding\n",
    "with open(r\"C:\\Users\\asg_a_1p8y6mm\\OneDrive\\Desktop\\WIOA Training\\DataAnalytics\\Module 12\\Module 12; Class Challenge\\nosql-challenge\\Resources\\establishments.json\", 'r', encoding='utf-8') as f:\n",
    "    establishments_data = json.load(f)\n",
    "\n",
    "# Now you can work with the loaded data\n",
    "# For example, print the first document\n",
    "print(establishments_data[0]) #assuming it's a JSON Array"
   ]
  },
  {
   "cell_type": "code",
   "execution_count": 5,
   "id": "34584154-d837-4acf-9b5c-0a6c2132b278",
   "metadata": {},
   "outputs": [
    {
     "name": "stdout",
     "output_type": "stream",
     "text": [
      "Data already exists in 'establishments' collection. Skipping import\n"
     ]
    }
   ],
   "source": [
    "# Check if the collection is empty\n",
    "if establishments_collection.count_documents({}) == 0:\n",
    "  # Insert the data into the artifacts collection\n",
    "  establishments_collection.insert_many(establishments_data)\n",
    "  print(\"Data imported successfully into 'establishments' collection\")\n",
    "else:\n",
    "  print(\"Data already exists in 'establishments' collection. Skipping import\")"
   ]
  },
  {
   "cell_type": "code",
   "execution_count": 6,
   "id": "e9fe6205-aee8-41f7-820b-91b0e4a3b772",
   "metadata": {},
   "outputs": [
    {
     "name": "stdout",
     "output_type": "stream",
     "text": [
      "['admin', 'classDB', 'config', 'epa', 'fruits_db', 'local', 'met', 'petsitly_marketing', 'uk_food']\n"
     ]
    }
   ],
   "source": [
    "# Confirm that our new database was created\n",
    "print(mongo.list_database_names())"
   ]
  },
  {
   "cell_type": "code",
   "execution_count": 7,
   "id": "233e730a-e5ee-4bde-8cb4-59429f6fcc88",
   "metadata": {},
   "outputs": [],
   "source": [
    "# Assign the uk_food database to a variable name\n",
    "db = mongo['uk_food']"
   ]
  },
  {
   "cell_type": "code",
   "execution_count": 8,
   "id": "3c8aad5b-33f5-4faf-8dc4-ba0ddaecb5e6",
   "metadata": {},
   "outputs": [
    {
     "name": "stdout",
     "output_type": "stream",
     "text": [
      "['establishments']\n"
     ]
    }
   ],
   "source": [
    "# Review the collections in our new database\n",
    "print(db.list_collection_names())"
   ]
  },
  {
   "cell_type": "code",
   "execution_count": 9,
   "id": "b0ff6e23-22ca-4fca-a702-9ffe75ca5a8b",
   "metadata": {},
   "outputs": [
    {
     "name": "stdout",
     "output_type": "stream",
     "text": [
      "{'AddressLine1': 'East Cliff Pavilion',\n",
      " 'AddressLine2': 'Wear Bay Road',\n",
      " 'AddressLine3': 'Folkestone',\n",
      " 'AddressLine4': 'Kent',\n",
      " 'BusinessName': 'The Pavilion',\n",
      " 'BusinessType': 'Restaurant/Cafe/Canteen',\n",
      " 'BusinessTypeID': 1,\n",
      " 'ChangesByServerID': 0,\n",
      " 'Distance': 4591.765489457773,\n",
      " 'FHRSID': 1043695,\n",
      " 'LocalAuthorityBusinessID': 'PI/000073616',\n",
      " 'LocalAuthorityCode': '188',\n",
      " 'LocalAuthorityEmailAddress': 'foodteam@folkestone-hythe.gov.uk',\n",
      " 'LocalAuthorityName': 'Folkestone and Hythe',\n",
      " 'LocalAuthorityWebSite': 'http://www.folkestone-hythe.gov.uk',\n",
      " 'NewRatingPending': False,\n",
      " 'Phone': '',\n",
      " 'PostCode': 'CT19 6BL',\n",
      " 'RatingDate': '2018-04-04T00:00:00',\n",
      " 'RatingKey': 'fhrs_5_en-gb',\n",
      " 'RatingValue': 5,\n",
      " 'RightToReply': '',\n",
      " 'SchemeType': 'FHRS',\n",
      " '_id': ObjectId('67678e9966a54f35c13521f2'),\n",
      " 'geocode': {'latitude': 51.083812, 'longitude': 1.195625},\n",
      " 'links': [{'href': 'https://api.ratings.food.gov.uk/establishments/1043695',\n",
      "            'rel': 'self'}],\n",
      " 'meta': {'dataSource': None,\n",
      "          'extractDate': '0001-01-01T00:00:00',\n",
      "          'itemCount': 0,\n",
      "          'pageNumber': 0,\n",
      "          'pageSize': 0,\n",
      "          'returncode': None,\n",
      "          'totalCount': 0,\n",
      "          'totalPages': 0},\n",
      " 'scores': {'ConfidenceInManagement': 5, 'Hygiene': 5, 'Structural': 5}}\n"
     ]
    }
   ],
   "source": [
    "# Review a document in the establishments collection\n",
    "pprint(db.establishments.find_one())"
   ]
  },
  {
   "cell_type": "code",
   "execution_count": 10,
   "id": "74ef3b6b-eee7-49ae-9827-9fd69f9a2fe5",
   "metadata": {},
   "outputs": [
    {
     "name": "stdout",
     "output_type": "stream",
     "text": [
      "Old Collection dropped successfully\n",
      "\n",
      "Data imported successfully into 'establishments' collection\n"
     ]
    }
   ],
   "source": [
    "# Assign the collection to a variable\n",
    "establishments = db['establishments']\n",
    "\n",
    "# drop the establishments collection if it exists:\n",
    "if 'establishments' in db.list_collection_names():\n",
    "    establishments.drop()\n",
    "    print (\"Old Collection dropped successfully\\n\")\n",
    "else:\n",
    "   print (\"No Collection to drop\\n\")\n",
    "\n",
    "# Load the data from the JSON file with UTF-8 encoding\n",
    "with open(r\"C:\\Users\\asg_a_1p8y6mm\\OneDrive\\Desktop\\WIOA Training\\DataAnalytics\\Module 12\\Module 12; Class Challenge\\nosql-challenge\\Resources\\establishments.json\", 'r', encoding='utf-8') as f:\n",
    "    establishments_data = json.load(f)\n",
    "\n",
    "# check if the collection is empty\n",
    "if establishments.count_documents({}) == 0:\n",
    "   # Insert the data into the artifacts collection\n",
    "   establishments.insert_many(establishments_data)\n",
    "   print(\"Data imported successfully into 'establishments' collection\")\n",
    "else:\n",
    "   print(\"Data already exists in 'establishments' collection. Skipping import\")"
   ]
  },
  {
   "cell_type": "markdown",
   "id": "492065a7-aeb9-4e99-8cc4-0977174478f9",
   "metadata": {},
   "source": [
    "## Part 2: Update the Database"
   ]
  },
  {
   "cell_type": "markdown",
   "id": "673ea4da-122d-4e16-86f1-e909dc4b6876",
   "metadata": {},
   "source": [
    "1. An exciting new halal restaurant just opened in Greenwich, but hasn't been rated yet. The magazine has asked you to include it in your analysis. Add the following restaurant \"Penang Flavours\" to the database."
   ]
  },
  {
   "cell_type": "markdown",
   "id": "2a339f59-1305-4c61-808b-4a35b4bac90c",
   "metadata": {},
   "source": [
    "1. Insert the new restaurant data"
   ]
  },
  {
   "cell_type": "code",
   "execution_count": 11,
   "id": "14b61236-11dc-4e56-adbe-fe2f6a9b1124",
   "metadata": {},
   "outputs": [],
   "source": [
    "# Create a dictionary for the new restaurant data\n",
    "new_restaurant = {\n",
    "    \"BusinessName\": \"Penang Flavours\",\n",
    "    \"BusinessType\": \"Restaurant/Cafe/Canteen\",\n",
    "    \"BusinessTypeID\": \"\",\n",
    "    \"AddressLine1\": \"Penang Flavours\",\n",
    "    \"AddressLine2\": \"146A Plumstead Rd\",\n",
    "    \"AddressLine3\": \"London\",\n",
    "    \"AddressLine4\": \"\",\n",
    "    \"PostCode\": \"SE18 7DY\",\n",
    "    \"Phone\": \"\",\n",
    "    \"LocalAuthorityCode\": \"511\",\n",
    "    \"LocalAuthorityName\": \"Greenwich\",\n",
    "    \"LocalAuthorityWebSite\": \"http://www.royalgreenwich.gov.uk\",\n",
    "    \"LocalAuthorityEmailAddress\": \"health@royalgreenwich.gov.uk\",\n",
    "    \"scores\": {\n",
    "        \"Hygiene\": \"\",\n",
    "        \"Structural\": \"\",\n",
    "        \"ConfidenceInManagement\": \"\"\n",
    "    },\n",
    "    \"SchemeType\": \"FHRS\",\n",
    "    \"geocode\": {\n",
    "        \"longitude\": \"0.08384000\",\n",
    "        \"latitude\": \"51.49014200\"\n",
    "    },\n",
    "    \"RightToReply\": \"\",\n",
    "    \"Distance\": 4623.9723280747176,\n",
    "    \"NewRatingPending\": True\n",
    "}"
   ]
  },
  {
   "cell_type": "code",
   "execution_count": 12,
   "id": "aa3dadf1-1ec8-486b-b0ea-89094f70e9b4",
   "metadata": {},
   "outputs": [],
   "source": [
    "# Insert the new restaurant into the collection\n",
    "insert_result = establishments.insert_one(new_restaurant)"
   ]
  },
  {
   "cell_type": "code",
   "execution_count": 13,
   "id": "90bf9013-598e-466b-8f4b-1f548b9c1b54",
   "metadata": {},
   "outputs": [
    {
     "name": "stdout",
     "output_type": "stream",
     "text": [
      "\n",
      "New restaurant 'Penang Flavours' inserted successfully:\n",
      "{'AddressLine1': 'Penang Flavours',\n",
      " 'AddressLine2': '146A Plumstead Rd',\n",
      " 'AddressLine3': 'London',\n",
      " 'AddressLine4': '',\n",
      " 'BusinessName': 'Penang Flavours',\n",
      " 'BusinessType': 'Restaurant/Cafe/Canteen',\n",
      " 'BusinessTypeID': '',\n",
      " 'Distance': 4623.972328074718,\n",
      " 'LocalAuthorityCode': '511',\n",
      " 'LocalAuthorityEmailAddress': 'health@royalgreenwich.gov.uk',\n",
      " 'LocalAuthorityName': 'Greenwich',\n",
      " 'LocalAuthorityWebSite': 'http://www.royalgreenwich.gov.uk',\n",
      " 'NewRatingPending': True,\n",
      " 'Phone': '',\n",
      " 'PostCode': 'SE18 7DY',\n",
      " 'RightToReply': '',\n",
      " 'SchemeType': 'FHRS',\n",
      " '_id': ObjectId('676792b100e79914060b675e'),\n",
      " 'geocode': {'latitude': '51.49014200', 'longitude': '0.08384000'},\n",
      " 'scores': {'ConfidenceInManagement': '', 'Hygiene': '', 'Structural': ''}}\n"
     ]
    }
   ],
   "source": [
    "# Check that the new restaurant was inserted:\n",
    "if insert_result.acknowledged:\n",
    "    inserted_id = insert_result.inserted_id\n",
    "    retrieved_restaurant = establishments.find_one({\"_id\": inserted_id})\n",
    "    if retrieved_restaurant:\n",
    "      print(\"\\nNew restaurant 'Penang Flavours' inserted successfully:\")\n",
    "      pprint(retrieved_restaurant)\n",
    "    else:\n",
    "       print (\"\\nERROR: The new restaurant was inserted, but cannot be retrieved.\\n\")\n",
    "else:\n",
    "    print(\"\\nERROR: The insertion was not acknowledged and may not have worked.\\n\")"
   ]
  },
  {
   "cell_type": "markdown",
   "id": "07d89127-c367-4ef1-bfde-47cdd2246b38",
   "metadata": {},
   "source": [
    "2. Find the BusinessTypeID for \"Restaurant/Cafe/Canteen\" and return only the `BusinessTypeID` and `BusinessType` fields."
   ]
  },
  {
   "cell_type": "code",
   "execution_count": 14,
   "id": "5891449a-151b-4117-8e5d-3b3b4991d7cc",
   "metadata": {},
   "outputs": [
    {
     "name": "stdout",
     "output_type": "stream",
     "text": [
      "\n",
      "Business Type Info: {'BusinessType': 'Restaurant/Cafe/Canteen', 'BusinessTypeID': 1}\n"
     ]
    }
   ],
   "source": [
    "# Find the BusinessTypeID for \"Restaurant/Cafe/Canteen\" and return only the BusinessTypeID and BusinessType fields\n",
    "query = {\"BusinessType\": \"Restaurant/Cafe/Canteen\"} # Define the query to find a restaurant.\n",
    "projection = {\"BusinessTypeID\": 1, \"BusinessType\": 1, \"_id\": 0} # Specify the fields to return.\n",
    "business_type_info = establishments.find_one(query, projection) # Find the record based on the query.\n",
    "\n",
    "print(\"\\nBusiness Type Info:\", business_type_info) # Output the retrieved information.\n",
    "business_type_id = business_type_info['BusinessTypeID'] # Assign the BusinessTypeID to a variable."
   ]
  },
  {
   "cell_type": "markdown",
   "id": "b01328d9-5242-4afd-8c34-f3a69c129b60",
   "metadata": {},
   "source": [
    "3. Update the new restaurant with the `BusinessTypeID` you found."
   ]
  },
  {
   "cell_type": "code",
   "execution_count": 15,
   "id": "47eb83e7-e8ea-4f8a-85af-14106023b9ba",
   "metadata": {},
   "outputs": [
    {
     "data": {
      "text/plain": [
       "UpdateResult({'n': 1, 'nModified': 1, 'ok': 1.0, 'updatedExisting': True}, acknowledged=True)"
      ]
     },
     "execution_count": 15,
     "metadata": {},
     "output_type": "execute_result"
    }
   ],
   "source": [
    "# Update the new restaurant with the correct \n",
    "establishments.update_one(\n",
    "    {\"BusinessName\": \"Penang Flavours\"}, # Identify which document to update.\n",
    "    {\"$set\": {\"BusinessTypeID\": business_type_id}} # Specify how to update the record\n",
    ")"
   ]
  },
  {
   "cell_type": "code",
   "execution_count": 16,
   "id": "aa332f20-d6ea-479b-9f48-2af4de4ee015",
   "metadata": {},
   "outputs": [
    {
     "name": "stdout",
     "output_type": "stream",
     "text": [
      "\n",
      "Updated Penang Flavours Restaurant:\n",
      "\n",
      "{'AddressLine1': 'Penang Flavours',\n",
      " 'AddressLine2': '146A Plumstead Rd',\n",
      " 'AddressLine3': 'London',\n",
      " 'AddressLine4': '',\n",
      " 'BusinessName': 'Penang Flavours',\n",
      " 'BusinessType': 'Restaurant/Cafe/Canteen',\n",
      " 'BusinessTypeID': 1,\n",
      " 'Distance': 4623.972328074718,\n",
      " 'LocalAuthorityCode': '511',\n",
      " 'LocalAuthorityEmailAddress': 'health@royalgreenwich.gov.uk',\n",
      " 'LocalAuthorityName': 'Greenwich',\n",
      " 'LocalAuthorityWebSite': 'http://www.royalgreenwich.gov.uk',\n",
      " 'NewRatingPending': True,\n",
      " 'Phone': '',\n",
      " 'PostCode': 'SE18 7DY',\n",
      " 'RightToReply': '',\n",
      " 'SchemeType': 'FHRS',\n",
      " '_id': ObjectId('676792b100e79914060b675e'),\n",
      " 'geocode': {'latitude': '51.49014200', 'longitude': '0.08384000'},\n",
      " 'scores': {'ConfidenceInManagement': '', 'Hygiene': '', 'Structural': ''}}\n"
     ]
    }
   ],
   "source": [
    "# Confirm that the new restaurant was updated:\n",
    "updated_restaurant = establishments.find_one({\"BusinessName\": \"Penang Flavours\"}) # Find the document and assign it to a variable.\n",
    "print(\"\\nUpdated Penang Flavours Restaurant:\\n\")\n",
    "pprint(updated_restaurant) # Output the updated document to confirm the changes."
   ]
  },
  {
   "cell_type": "markdown",
   "id": "47ab8f2d-a0a3-4bed-b258-7436d01b23a2",
   "metadata": {},
   "source": [
    "4. The magazine is not interested in any establishments in Dover, so check how many documents contain the Dover Local Authority. Then, remove any establishments within the Dover Local Authority from the database, and check the number of documents to ensure they were deleted."
   ]
  },
  {
   "cell_type": "code",
   "execution_count": 17,
   "id": "03b2c2f5-3b8f-4828-a70e-9ca6c92a180c",
   "metadata": {},
   "outputs": [
    {
     "name": "stdout",
     "output_type": "stream",
     "text": [
      "\n",
      "Number of establishments in Dover before deletion: 994\n"
     ]
    }
   ],
   "source": [
    "# Find how many documents have LocalAuthorityName as \"Dover\"\n",
    "dover_count = establishments.count_documents({\"LocalAuthorityName\": \"Dover\"}) # Find the number of records with LocalAuthorityName of Dover.\n",
    "print(f\"\\nNumber of establishments in Dover before deletion: {dover_count}\") # Output the number found."
   ]
  },
  {
   "cell_type": "code",
   "execution_count": 18,
   "id": "90d930c9-95f3-4f20-b910-5ff9178f881e",
   "metadata": {},
   "outputs": [
    {
     "data": {
      "text/plain": [
       "DeleteResult({'n': 994, 'ok': 1.0}, acknowledged=True)"
      ]
     },
     "execution_count": 18,
     "metadata": {},
     "output_type": "execute_result"
    }
   ],
   "source": [
    "# Delete all documents where LocalAuthorityName is \"Dover\":\n",
    "establishments.delete_many({\"LocalAuthorityName\": \"Dover\"}) # Delete all the records."
   ]
  },
  {
   "cell_type": "code",
   "execution_count": 19,
   "id": "690ae0ba-235d-4825-864a-f4a1a5a3f7c5",
   "metadata": {},
   "outputs": [
    {
     "name": "stdout",
     "output_type": "stream",
     "text": [
      "\n",
      "Remaining document with Dover: None\n"
     ]
    }
   ],
   "source": [
    "# Check if any remaining documents include Dover:\n",
    "dover_remaining = establishments.find_one({\"LocalAuthorityName\": \"Dover\"}) # Attempt to find a document that has not been deleted.\n",
    "print(\"\\nRemaining document with Dover:\", dover_remaining) # Output the document, if any."
   ]
  },
  {
   "cell_type": "code",
   "execution_count": 20,
   "id": "0bcacbad-b4f3-45a4-b516-661bbfd9d9c2",
   "metadata": {},
   "outputs": [
    {
     "name": "stdout",
     "output_type": "stream",
     "text": [
      "Number of establishments in Dover after deletion: 0\n"
     ]
    }
   ],
   "source": [
    "# Check that other documents remain with 'find_one'\n",
    "# Check number of documents after deletion:\n",
    "dover_after = establishments.count_documents({\"LocalAuthorityName\": \"Dover\"})\n",
    "print(f\"Number of establishments in Dover after deletion: {dover_after}\")"
   ]
  },
  {
   "cell_type": "markdown",
   "id": "69680acf-3fc3-42b8-9acd-323eefeca429",
   "metadata": {},
   "source": [
    "5. Some of the number values are stored as strings, when they should be stored as numbers."
   ]
  },
  {
   "cell_type": "markdown",
   "id": "17738c50-8724-4e68-9f8d-d8630ed8eebb",
   "metadata": {},
   "source": [
    "Use `update_many` to convert `latitude` and `longitude` to decimal numbers."
   ]
  },
  {
   "cell_type": "code",
   "execution_count": 21,
   "id": "a762b4b5-8801-4cb9-8d62-5993e5da354c",
   "metadata": {},
   "outputs": [
    {
     "data": {
      "text/plain": [
       "UpdateResult({'n': 4091, 'nModified': 4091, 'ok': 1.0, 'updatedExisting': True}, acknowledged=True)"
      ]
     },
     "execution_count": 21,
     "metadata": {},
     "output_type": "execute_result"
    }
   ],
   "source": [
    "# Set non 1-5 Rating Values to Null\n",
    "non_ratings = [\"AwaitingInspection\", \"Awaiting Inspection\",\n",
    "\"AwaitingPublication\", \"Pass\", \"Exempt\"]\n",
    "establishments.update_many({\"RatingValue\": {\"$in\": non_ratings}},\n",
    "[ {'$set':{ \"RatingValue\" : None}} ])"
   ]
  },
  {
   "cell_type": "code",
   "execution_count": 22,
   "id": "f4bdd51d-af49-4818-8362-b6fd85cb4794",
   "metadata": {},
   "outputs": [
    {
     "data": {
      "text/plain": [
       "UpdateResult({'n': 38786, 'nModified': 38786, 'ok': 1.0, 'updatedExisting': True}, acknowledged=True)"
      ]
     },
     "execution_count": 22,
     "metadata": {},
     "output_type": "execute_result"
    }
   ],
   "source": [
    "# Convert latitude and longitude to decimal numbers and RatingValue to integers:\n",
    "establishments.update_many(\n",
    "    {}, # Specify the filter for the records to be updated (all records will be updated).\n",
    "    [\n",
    "        { # Use aggregation to correctly handle type conversions.\n",
    "            \"$set\": {\n",
    "                \"geocode.longitude\": { # Update longitude.\n",
    "                    \"$cond\": [ # Use the $cond conditional operator.\n",
    "                        {\"$ne\": [\"$geocode.longitude\", None]}, # Only perform conversion if value is not null.\n",
    "                        {\"$toDouble\": \"$geocode.longitude\"}, # Convert to double if value is not null.\n",
    "                        None, # If value is null leave it as null.\n",
    "                    ],\n",
    "                 },\n",
    "                \"geocode.latitude\": { # Update latitude.\n",
    "                    \"$cond\": [ # Use the $cond conditional operator.\n",
    "                        {\"$ne\": [\"$geocode.latitude\", None]}, # Only perform conversion if value is not null.\n",
    "                        {\"$toDouble\": \"$geocode.latitude\"}, # Convert to double if value is not null.\n",
    "                         None, # If value is null leave it as null.\n",
    "                    ],\n",
    "                 },\n",
    "                \"RatingValue\": { # Update the rating value.\n",
    "                    \"$cond\": [  # Use the $cond conditional operator.\n",
    "                        {\"$ne\": [\"$RatingValue\", None]}, # Only perform conversion if value is not null.\n",
    "                        {\"$toInt\": \"$RatingValue\"},  # Convert to int if value is not null.\n",
    "                         None,  # If value is null leave it as null.\n",
    "                    ],\n",
    "                  },\n",
    "            }\n",
    "        }\n",
    "    ]\n",
    ")"
   ]
  },
  {
   "cell_type": "markdown",
   "id": "6379f44d-6a5f-458c-b0ab-29a8278ae85a",
   "metadata": {},
   "source": [
    "Use `update_many` to convert `RatingValue` to integer numbers."
   ]
  },
  {
   "cell_type": "code",
   "execution_count": 23,
   "id": "b8c0c156-b5b0-4415-bafd-099a3013db0c",
   "metadata": {},
   "outputs": [],
   "source": [
    "# Change the data type from String to Integer for RatingValue"
   ]
  },
  {
   "cell_type": "code",
   "execution_count": 24,
   "id": "af6dd318-1a46-4b4b-98da-05d2d3f22eab",
   "metadata": {
    "scrolled": true
   },
   "outputs": [
    {
     "name": "stdout",
     "output_type": "stream",
     "text": [
      "\n",
      "Verifying data types:\n",
      "Sample document after type changes:\n",
      "\n",
      "{'AddressLine1': 'East Cliff Pavilion',\n",
      " 'AddressLine2': 'Wear Bay Road',\n",
      " 'AddressLine3': 'Folkestone',\n",
      " 'AddressLine4': 'Kent',\n",
      " 'BusinessName': 'The Pavilion',\n",
      " 'BusinessType': 'Restaurant/Cafe/Canteen',\n",
      " 'BusinessTypeID': 1,\n",
      " 'ChangesByServerID': 0,\n",
      " 'Distance': 4591.765489457773,\n",
      " 'FHRSID': 1043695,\n",
      " 'LocalAuthorityBusinessID': 'PI/000073616',\n",
      " 'LocalAuthorityCode': '188',\n",
      " 'LocalAuthorityEmailAddress': 'foodteam@folkestone-hythe.gov.uk',\n",
      " 'LocalAuthorityName': 'Folkestone and Hythe',\n",
      " 'LocalAuthorityWebSite': 'http://www.folkestone-hythe.gov.uk',\n",
      " 'NewRatingPending': False,\n",
      " 'Phone': '',\n",
      " 'PostCode': 'CT19 6BL',\n",
      " 'RatingDate': '2018-04-04T00:00:00',\n",
      " 'RatingKey': 'fhrs_5_en-gb',\n",
      " 'RatingValue': 5,\n",
      " 'RightToReply': '',\n",
      " 'SchemeType': 'FHRS',\n",
      " '_id': ObjectId('676792a600e79914060acee2'),\n",
      " 'geocode': {'latitude': 51.083812, 'longitude': 1.195625},\n",
      " 'links': [{'href': 'https://api.ratings.food.gov.uk/establishments/1043695',\n",
      "            'rel': 'self'}],\n",
      " 'meta': {'dataSource': None,\n",
      "          'extractDate': '0001-01-01T00:00:00',\n",
      "          'itemCount': 0,\n",
      "          'pageNumber': 0,\n",
      "          'pageSize': 0,\n",
      "          'returncode': None,\n",
      "          'totalCount': 0,\n",
      "          'totalPages': 0},\n",
      " 'scores': {'ConfidenceInManagement': 5, 'Hygiene': 5, 'Structural': 5}}\n"
     ]
    }
   ],
   "source": [
    "# Check that the coordinates and rating value are now numbers\n",
    "print(\"\\nVerifying data types:\") # Print a message to indicate that the next step is to verify that data types have been converted.\n",
    "sample_document = establishments.find_one() # Assign a single document to a variable.\n",
    "print(\"Sample document after type changes:\\n\") # Print a message to indicate that a sample document will be printed.\n",
    "pprint(sample_document) # Print the variable to confirm that the data types have been correctly converted."
   ]
  }
 ],
 "metadata": {
  "kernelspec": {
   "display_name": "Python 3 (ipykernel)",
   "language": "python",
   "name": "python3"
  },
  "language_info": {
   "codemirror_mode": {
    "name": "ipython",
    "version": 3
   },
   "file_extension": ".py",
   "mimetype": "text/x-python",
   "name": "python",
   "nbconvert_exporter": "python",
   "pygments_lexer": "ipython3",
   "version": "3.10.15"
  }
 },
 "nbformat": 4,
 "nbformat_minor": 5
}
